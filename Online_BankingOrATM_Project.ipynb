{
 "cells": [
  {
   "cell_type": "code",
   "execution_count": null,
   "id": "4a575942",
   "metadata": {},
   "outputs": [],
   "source": [
    "#ONLINE BANKING/ATM \n",
    "class BankAccount:\n",
    "    def __init__(self, name, password, balance=0):\n",
    "        self.name = name\n",
    "        self.password = password\n",
    "        self.balance = balance\n",
    "\n",
    "    def withdraw(self):\n",
    "        password = input(\"Enter your password: \")\n",
    "        if self._check_password(password):\n",
    "            amount = float(input(\"Enter the withdrawal amount: $\"))\n",
    "            if amount <= self.balance:\n",
    "                self.balance -= amount\n",
    "                print(f\"Withdrawal of ${amount} successful.\")\n",
    "            else:\n",
    "                print(\"Insufficient balance.\")\n",
    "        else:\n",
    "            print(\"Incorrect password.\")\n",
    "\n",
    "    def deposit(self):\n",
    "        password = input(\"Enter your password: \")\n",
    "        if self._check_password(password):\n",
    "            amount = float(input(\"Enter the deposit amount: $\"))\n",
    "            self.balance += amount\n",
    "            print(f\"Deposit of ${amount} successful.\")\n",
    "        else:\n",
    "            print(\"Incorrect password.\")\n",
    "\n",
    "    def print_account_info(self):\n",
    "        password = input(\"Enter your password: \")\n",
    "        if self._check_password(password):\n",
    "            print(f\"Account Holder: {self.name}\")\n",
    "            print(f\"Account Balance: ${self.balance}\")\n",
    "        else:\n",
    "            print(\"Incorrect password.\")\n",
    "\n",
    "    def _check_password(self, password):\n",
    "        return password == self.password\n",
    "if __name__ == '__main__':\n",
    "    account = BankAccount(\"Harsh Vasoya\", \"Harsh123\")\n",
    "    while True:\n",
    "        action = input(\"Do you want to deposit (D) or withdraw (W)? \").upper()\n",
    "        if action == \"D\":\n",
    "            account.deposit()\n",
    "            break\n",
    "        elif action == \"W\":\n",
    "            account.withdraw()\n",
    "            break\n",
    "        else:\n",
    "            print(\"Invalid option. Please choose 'D' for deposit or 'W' for withdraw.\")\n",
    "    account.print_account_info()\n"
   ]
  }
 ],
 "metadata": {
  "kernelspec": {
   "display_name": "Python 3 (ipykernel)",
   "language": "python",
   "name": "python3"
  },
  "language_info": {
   "codemirror_mode": {
    "name": "ipython",
    "version": 3
   },
   "file_extension": ".py",
   "mimetype": "text/x-python",
   "name": "python",
   "nbconvert_exporter": "python",
   "pygments_lexer": "ipython3",
   "version": "3.10.9"
  }
 },
 "nbformat": 4,
 "nbformat_minor": 5
}
